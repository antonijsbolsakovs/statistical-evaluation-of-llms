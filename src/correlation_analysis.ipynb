{
 "cells": [
  {
   "cell_type": "code",
   "execution_count": 6,
   "id": "33a377ea",
   "metadata": {},
   "outputs": [
    {
     "data": {
      "text/plain": [
       "['statistics',\n",
       " 'output_1_5_csv',\n",
       " 'prompts.txt',\n",
       " 'text_analysis.py',\n",
       " 'proportions1.5',\n",
       " 'generate_danish_words.py',\n",
       " 'danish_words.txt',\n",
       " 'output',\n",
       " 'images1.5',\n",
       " 'text-cleaner.py',\n",
       " 'README.md',\n",
       " 'output_csv',\n",
       " 'new_text_cleaner.py',\n",
       " 'proportions2.0',\n",
       " 'reading_prompts.py',\n",
       " '.gitignore',\n",
       " 'images2.0',\n",
       " 'prompts',\n",
       " 'output_1_5',\n",
       " 'AMining.py',\n",
       " '.git']"
      ]
     },
     "execution_count": 6,
     "metadata": {},
     "output_type": "execute_result"
    }
   ],
   "source": [
    "import os\n",
    "\n",
    "os.listdir(\"Project-statistical-eval\")"
   ]
  },
  {
   "cell_type": "code",
   "execution_count": 7,
   "id": "0ccaf4cb",
   "metadata": {},
   "outputs": [
    {
     "data": {
      "text/plain": [
       "['MULTIPLE_1.5_proportions.csv',\n",
       " 'STEM_1.5_proportions.csv',\n",
       " 'RIDDLES_1.5_proportions.csv',\n",
       " 'CREATIVE PROMPTS_1.5_proportions.csv',\n",
       " 'NON_1.5_proportions.csv',\n",
       " 'FAQ_1.5_proportions.csv']"
      ]
     },
     "execution_count": 7,
     "metadata": {},
     "output_type": "execute_result"
    }
   ],
   "source": [
    "os.listdir(\"Project-statistical-eval/proportions1.5\")"
   ]
  },
  {
   "cell_type": "code",
   "execution_count": 8,
   "id": "ae10d5f4",
   "metadata": {},
   "outputs": [
    {
     "data": {
      "text/html": [
       "<div>\n",
       "<style scoped>\n",
       "    .dataframe tbody tr th:only-of-type {\n",
       "        vertical-align: middle;\n",
       "    }\n",
       "\n",
       "    .dataframe tbody tr th {\n",
       "        vertical-align: top;\n",
       "    }\n",
       "\n",
       "    .dataframe thead th {\n",
       "        text-align: right;\n",
       "    }\n",
       "</style>\n",
       "<table border=\"1\" class=\"dataframe\">\n",
       "  <thead>\n",
       "    <tr style=\"text-align: right;\">\n",
       "      <th></th>\n",
       "      <th>filename</th>\n",
       "      <th>total_words</th>\n",
       "      <th>english_only</th>\n",
       "      <th>danish_only</th>\n",
       "      <th>ambiguous</th>\n",
       "      <th>neither</th>\n",
       "      <th>prop_english_only</th>\n",
       "      <th>prop_danish_only</th>\n",
       "      <th>prop_ambiguous</th>\n",
       "      <th>prop_neither</th>\n",
       "    </tr>\n",
       "  </thead>\n",
       "  <tbody>\n",
       "    <tr>\n",
       "      <th>0</th>\n",
       "      <td>output_STEM_20250611_130201_1.txt</td>\n",
       "      <td>272</td>\n",
       "      <td>0</td>\n",
       "      <td>173</td>\n",
       "      <td>83</td>\n",
       "      <td>16.0</td>\n",
       "      <td>0.000000</td>\n",
       "      <td>0.636029</td>\n",
       "      <td>0.305147</td>\n",
       "      <td>0.058824</td>\n",
       "    </tr>\n",
       "    <tr>\n",
       "      <th>1</th>\n",
       "      <td>output_STEM_20250611_130211_2.txt</td>\n",
       "      <td>294</td>\n",
       "      <td>0</td>\n",
       "      <td>204</td>\n",
       "      <td>79</td>\n",
       "      <td>11.0</td>\n",
       "      <td>0.000000</td>\n",
       "      <td>0.693878</td>\n",
       "      <td>0.268707</td>\n",
       "      <td>0.037415</td>\n",
       "    </tr>\n",
       "    <tr>\n",
       "      <th>2</th>\n",
       "      <td>output_STEM_20250611_130221_3.txt</td>\n",
       "      <td>311</td>\n",
       "      <td>2</td>\n",
       "      <td>212</td>\n",
       "      <td>85</td>\n",
       "      <td>12.0</td>\n",
       "      <td>0.006431</td>\n",
       "      <td>0.681672</td>\n",
       "      <td>0.273312</td>\n",
       "      <td>0.038585</td>\n",
       "    </tr>\n",
       "    <tr>\n",
       "      <th>3</th>\n",
       "      <td>output_STEM_20250611_130231_4.txt</td>\n",
       "      <td>308</td>\n",
       "      <td>0</td>\n",
       "      <td>196</td>\n",
       "      <td>103</td>\n",
       "      <td>9.0</td>\n",
       "      <td>0.000000</td>\n",
       "      <td>0.636364</td>\n",
       "      <td>0.334416</td>\n",
       "      <td>0.029221</td>\n",
       "    </tr>\n",
       "    <tr>\n",
       "      <th>4</th>\n",
       "      <td>output_STEM_20250611_130241_5.txt</td>\n",
       "      <td>303</td>\n",
       "      <td>0</td>\n",
       "      <td>205</td>\n",
       "      <td>96</td>\n",
       "      <td>2.0</td>\n",
       "      <td>0.000000</td>\n",
       "      <td>0.676568</td>\n",
       "      <td>0.316832</td>\n",
       "      <td>0.006601</td>\n",
       "    </tr>\n",
       "  </tbody>\n",
       "</table>\n",
       "</div>"
      ],
      "text/plain": [
       "                            filename total_words english_only danish_only  \\\n",
       "0  output_STEM_20250611_130201_1.txt         272            0         173   \n",
       "1  output_STEM_20250611_130211_2.txt         294            0         204   \n",
       "2  output_STEM_20250611_130221_3.txt         311            2         212   \n",
       "3  output_STEM_20250611_130231_4.txt         308            0         196   \n",
       "4  output_STEM_20250611_130241_5.txt         303            0         205   \n",
       "\n",
       "  ambiguous  neither  prop_english_only  prop_danish_only  prop_ambiguous  \\\n",
       "0        83     16.0           0.000000          0.636029        0.305147   \n",
       "1        79     11.0           0.000000          0.693878        0.268707   \n",
       "2        85     12.0           0.006431          0.681672        0.273312   \n",
       "3       103      9.0           0.000000          0.636364        0.334416   \n",
       "4        96      2.0           0.000000          0.676568        0.316832   \n",
       "\n",
       "   prop_neither  \n",
       "0      0.058824  \n",
       "1      0.037415  \n",
       "2      0.038585  \n",
       "3      0.029221  \n",
       "4      0.006601  "
      ]
     },
     "execution_count": 8,
     "metadata": {},
     "output_type": "execute_result"
    }
   ],
   "source": [
    "import pandas as pd\n",
    "\n",
    "df = pd.read_csv(\"Project-statistical-eval/proportions1.5/STEM_1.5_proportions.csv\")\n",
    "df.head()"
   ]
  },
  {
   "cell_type": "code",
   "execution_count": 10,
   "id": "4e573437",
   "metadata": {},
   "outputs": [],
   "source": [
    "df[\"total_words\"] = pd.to_numeric(df[\"total_words\"], errors=\"coerce\")\n",
    "df[\"english_only\"] = pd.to_numeric(df[\"english_only\"], errors=\"coerce\")"
   ]
  },
  {
   "cell_type": "code",
   "execution_count": 11,
   "id": "47660b45",
   "metadata": {},
   "outputs": [
    {
     "data": {
      "text/plain": [
       "total_words     float64\n",
       "english_only    float64\n",
       "dtype: object"
      ]
     },
     "execution_count": 11,
     "metadata": {},
     "output_type": "execute_result"
    }
   ],
   "source": [
    "df[[\"total_words\", \"english_only\"]].dtypes"
   ]
  },
  {
   "cell_type": "code",
   "execution_count": 13,
   "id": "ceabd9cb",
   "metadata": {},
   "outputs": [],
   "source": [
    "df_clean = df[[\"total_words\", \"english_only\"]].dropna()"
   ]
  },
  {
   "cell_type": "code",
   "execution_count": 14,
   "id": "2dc6288e",
   "metadata": {},
   "outputs": [
    {
     "name": "stdout",
     "output_type": "stream",
     "text": [
      "📊 Pearson correlation: r = 0.0026, p = 0.9757\n",
      "📈 Spearman correlation: r = -0.0998, p = 0.2494\n"
     ]
    }
   ],
   "source": [
    "from scipy.stats import pearsonr, spearmanr\n",
    "\n",
    "pearson_r, pearson_p = pearsonr(df_clean[\"total_words\"], df_clean[\"english_only\"])\n",
    "spearman_r, spearman_p = spearmanr(df_clean[\"total_words\"], df_clean[\"english_only\"])\n",
    "\n",
    "print(f\"📊 Pearson correlation: r = {pearson_r:.4f}, p = {pearson_p:.4f}\")\n",
    "print(f\"📈 Spearman correlation: r = {spearman_r:.4f}, p = {spearman_p:.4f}\")"
   ]
  },
  {
   "cell_type": "code",
   "execution_count": 15,
   "id": "9f502047",
   "metadata": {},
   "outputs": [],
   "source": [
    "import pandas as pd\n",
    "from scipy.stats import pearsonr\n",
    "import matplotlib.pyplot as plt\n",
    "import os\n",
    "\n",
    "# categories\n",
    "categories = [\"STEM\", \"FAQ\", \"RIDDLES\", \"CREATIVE PROMPTS\", \"MULTIPLE\", \"NON\"]\n",
    "\n",
    "# results\n",
    "results = []\n",
    "\n",
    "# processing\n",
    "for cat in categories:\n",
    "    path = f\"Project-statistical-eval/proportions1.5/{cat}_1.5_proportions.csv\"\n",
    "    if os.path.exists(path):\n",
    "        df = pd.read_csv(path)\n",
    "        df[\"total_words\"] = pd.to_numeric(df[\"total_words\"], errors=\"coerce\")\n",
    "        df[\"english_only\"] = pd.to_numeric(df[\"english_only\"], errors=\"coerce\")\n",
    "        df_clean = df[[\"total_words\", \"english_only\"]].dropna()\n",
    "\n",
    "        if not df_clean.empty:\n",
    "            pearson_r, pearson_p = pearsonr(df_clean[\"total_words\"], df_clean[\"english_only\"])\n",
    "            results.append({\"Category\": cat, \"Pearson r\": round(pearson_r, 4), \"p-value\": round(pearson_p, 4)})\n",
    "\n",
    "            # save the graph\n",
    "            plt.figure()\n",
    "            plt.scatter(df_clean[\"total_words\"], df_clean[\"english_only\"], alpha=0.6)\n",
    "            plt.xlabel(\"Total Words\")\n",
    "            plt.ylabel(\"English-Only Words\")\n",
    "            plt.title(f\"{cat} — Prompt Length vs English Usage\")\n",
    "            plt.grid(True)\n",
    "            plt.savefig(f\"{cat}_scatter.png\")\n",
    "            plt.close()"
   ]
  },
  {
   "cell_type": "code",
   "execution_count": 16,
   "id": "2a4399d7",
   "metadata": {},
   "outputs": [
    {
     "data": {
      "text/html": [
       "<div>\n",
       "<style scoped>\n",
       "    .dataframe tbody tr th:only-of-type {\n",
       "        vertical-align: middle;\n",
       "    }\n",
       "\n",
       "    .dataframe tbody tr th {\n",
       "        vertical-align: top;\n",
       "    }\n",
       "\n",
       "    .dataframe thead th {\n",
       "        text-align: right;\n",
       "    }\n",
       "</style>\n",
       "<table border=\"1\" class=\"dataframe\">\n",
       "  <thead>\n",
       "    <tr style=\"text-align: right;\">\n",
       "      <th></th>\n",
       "      <th>Category</th>\n",
       "      <th>Pearson r</th>\n",
       "      <th>p-value</th>\n",
       "    </tr>\n",
       "  </thead>\n",
       "  <tbody>\n",
       "    <tr>\n",
       "      <th>0</th>\n",
       "      <td>STEM</td>\n",
       "      <td>0.0026</td>\n",
       "      <td>0.9757</td>\n",
       "    </tr>\n",
       "    <tr>\n",
       "      <th>1</th>\n",
       "      <td>FAQ</td>\n",
       "      <td>-0.0009</td>\n",
       "      <td>0.9858</td>\n",
       "    </tr>\n",
       "    <tr>\n",
       "      <th>2</th>\n",
       "      <td>RIDDLES</td>\n",
       "      <td>0.1749</td>\n",
       "      <td>0.0008</td>\n",
       "    </tr>\n",
       "    <tr>\n",
       "      <th>3</th>\n",
       "      <td>CREATIVE PROMPTS</td>\n",
       "      <td>-0.0136</td>\n",
       "      <td>0.7798</td>\n",
       "    </tr>\n",
       "    <tr>\n",
       "      <th>4</th>\n",
       "      <td>MULTIPLE</td>\n",
       "      <td>0.1429</td>\n",
       "      <td>0.3170</td>\n",
       "    </tr>\n",
       "    <tr>\n",
       "      <th>5</th>\n",
       "      <td>NON</td>\n",
       "      <td>-0.0026</td>\n",
       "      <td>0.9723</td>\n",
       "    </tr>\n",
       "  </tbody>\n",
       "</table>\n",
       "</div>"
      ],
      "text/plain": [
       "           Category  Pearson r  p-value\n",
       "0              STEM     0.0026   0.9757\n",
       "1               FAQ    -0.0009   0.9858\n",
       "2           RIDDLES     0.1749   0.0008\n",
       "3  CREATIVE PROMPTS    -0.0136   0.7798\n",
       "4          MULTIPLE     0.1429   0.3170\n",
       "5               NON    -0.0026   0.9723"
      ]
     },
     "execution_count": 16,
     "metadata": {},
     "output_type": "execute_result"
    }
   ],
   "source": [
    "result_df = pd.DataFrame(results)\n",
    "result_df"
   ]
  }
 ],
 "metadata": {
  "kernelspec": {
   "display_name": "Python 3 (ipykernel)",
   "language": "python",
   "name": "python3"
  },
  "language_info": {
   "codemirror_mode": {
    "name": "ipython",
    "version": 3
   },
   "file_extension": ".py",
   "mimetype": "text/x-python",
   "name": "python",
   "nbconvert_exporter": "python",
   "pygments_lexer": "ipython3",
   "version": "3.9.12"
  }
 },
 "nbformat": 4,
 "nbformat_minor": 5
}
